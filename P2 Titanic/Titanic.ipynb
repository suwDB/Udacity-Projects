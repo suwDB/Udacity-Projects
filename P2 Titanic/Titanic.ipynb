{
 "cells": [
  {
   "cell_type": "markdown",
   "metadata": {},
   "source": [
    "# Titanic datset analysis : \n",
    "\n",
    "### -       What factors made people more likely to survive?\n",
    "### -       Predict if a passenger is a survivor or not given the traits"
   ]
  },
  {
   "cell_type": "code",
   "execution_count": 9,
   "metadata": {
    "collapsed": false
   },
   "outputs": [
    {
     "name": "stdout",
     "output_type": "stream",
     "text": [
      "Populating the interactive namespace from numpy and matplotlib\n"
     ]
    }
   ],
   "source": [
    "import pandas as pd\n",
    "import numpy as np\n",
    "\n",
    "%pylab inline\n",
    "import matplotlib.pyplot as plt\n",
    "import seaborn as sns"
   ]
  },
  {
   "cell_type": "markdown",
   "metadata": {},
   "source": [
    "## Data Summary"
   ]
  },
  {
   "cell_type": "code",
   "execution_count": 10,
   "metadata": {
    "collapsed": false
   },
   "outputs": [
    {
     "name": "stdout",
     "output_type": "stream",
     "text": [
      "   PassengerId  Survived  Pclass  \\\n",
      "0            1         0       3   \n",
      "1            2         1       1   \n",
      "\n",
      "                                                Name     Sex   Age  SibSp  \\\n",
      "0                            Braund, Mr. Owen Harris    male  22.0      1   \n",
      "1  Cumings, Mrs. John Bradley (Florence Briggs Th...  female  38.0      1   \n",
      "\n",
      "   Parch     Ticket     Fare Cabin Embarked  \n",
      "0      0  A/5 21171   7.2500   NaN        S  \n",
      "1      0   PC 17599  71.2833   C85        C  \n"
     ]
    }
   ],
   "source": [
    "df = pd.read_csv('titanic_data.csv')\n",
    "print df.head(n=2)"
   ]
  },
  {
   "cell_type": "code",
   "execution_count": 11,
   "metadata": {
    "collapsed": false
   },
   "outputs": [
    {
     "name": "stdout",
     "output_type": "stream",
     "text": [
      "Summary of numerical variables : \n",
      "\n",
      "       PassengerId    Survived      Pclass         Age       SibSp  \\\n",
      "count   891.000000  891.000000  891.000000  714.000000  891.000000   \n",
      "mean    446.000000    0.383838    2.308642   29.699118    0.523008   \n",
      "std     257.353842    0.486592    0.836071   14.526497    1.102743   \n",
      "min       1.000000    0.000000    1.000000    0.420000    0.000000   \n",
      "25%     223.500000    0.000000    2.000000   20.125000    0.000000   \n",
      "50%     446.000000    0.000000    3.000000   28.000000    0.000000   \n",
      "75%     668.500000    1.000000    3.000000   38.000000    1.000000   \n",
      "max     891.000000    1.000000    3.000000   80.000000    8.000000   \n",
      "\n",
      "            Parch        Fare  \n",
      "count  891.000000  891.000000  \n",
      "mean     0.381594   32.204208  \n",
      "std      0.806057   49.693429  \n",
      "min      0.000000    0.000000  \n",
      "25%      0.000000    7.910400  \n",
      "50%      0.000000   14.454200  \n",
      "75%      0.000000   31.000000  \n",
      "max      6.000000  512.329200  \n",
      "\n",
      "Summary of categorical variables : \n",
      "\n",
      "                             Name   Sex    Ticket        Cabin Embarked\n",
      "count                         891   891       891          204      889\n",
      "unique                        891     2       681          147        3\n",
      "top     Graham, Mr. George Edward  male  CA. 2343  C23 C25 C27        S\n",
      "freq                            1   577         7            4      644\n",
      "\n",
      "Total Survivors and Non-Survivors\n",
      "   Survived  PassengerId\n",
      "0         0          549\n",
      "1         1          342\n",
      "\n",
      "Ratio of non_survivors/survivors: 1.60526315789\n"
     ]
    }
   ],
   "source": [
    "print \"Summary of numerical variables : \\n\"\n",
    "print df.describe()\n",
    "print\n",
    "print 'Summary of categorical variables : \\n'\n",
    "print df.describe(include = ['O'])\n",
    "print\n",
    "\n",
    "# Overall distribution of survivors:\n",
    "by_survival = df.groupby(['Survived'], as_index=False)['PassengerId'].agg('count')\n",
    "print \"Total Survivors and Non-Survivors\"\n",
    "print by_survival\n",
    "print '\\nRatio of non_survivors/survivors: ' + str(by_survival['PassengerId'][0]/float(by_survival['PassengerId'][1]))"
   ]
  },
  {
   "cell_type": "markdown",
   "metadata": {},
   "source": [
    "## Data Pre-processing/Cleaning:"
   ]
  },
  {
   "cell_type": "code",
   "execution_count": 12,
   "metadata": {
    "collapsed": false
   },
   "outputs": [
    {
     "name": "stdout",
     "output_type": "stream",
     "text": [
      "MISSING VALUES TABLE \n",
      "\n",
      "PassengerId      0\n",
      "Survived         0\n",
      "Pclass           0\n",
      "Name             0\n",
      "Sex              0\n",
      "Age            177\n",
      "SibSp            0\n",
      "Parch            0\n",
      "Ticket           0\n",
      "Fare             0\n",
      "Cabin          687\n",
      "Embarked         2\n",
      "dtype: int64\n"
     ]
    }
   ],
   "source": [
    "# Check for Missing values:\n",
    "is_null_df = pd.isnull(df)\n",
    "\n",
    "# Get sum of missing values for each variable:\n",
    "print \"MISSING VALUES TABLE \\n\"\n",
    "print is_null_df.sum()"
   ]
  },
  {
   "cell_type": "markdown",
   "metadata": {},
   "source": [
    "### Notes:\n",
    "1. From summary : No outliers in any of the numeric attributes\n",
    "2. There are missing variables for Age, Cabin and Embarked. Cabin has more than 50% of missing variables. Age and Embarked has lesser missing variables which can be removed. "
   ]
  },
  {
   "cell_type": "code",
   "execution_count": 13,
   "metadata": {
    "collapsed": false
   },
   "outputs": [
    {
     "name": "stdout",
     "output_type": "stream",
     "text": [
      "(177, 12)\n",
      "\n",
      "       PassengerId    Survived      Pclass  Age       SibSp       Parch  \\\n",
      "count   177.000000  177.000000  177.000000  0.0  177.000000  177.000000   \n",
      "mean    435.581921    0.293785    2.598870  NaN    0.564972    0.180791   \n",
      "std     250.552901    0.456787    0.763216  NaN    1.626316    0.534145   \n",
      "min       6.000000    0.000000    1.000000  NaN    0.000000    0.000000   \n",
      "25%     230.000000    0.000000    3.000000  NaN    0.000000    0.000000   \n",
      "50%     452.000000    0.000000    3.000000  NaN    0.000000    0.000000   \n",
      "75%     634.000000    1.000000    3.000000  NaN    0.000000    0.000000   \n",
      "max     889.000000    1.000000    3.000000  NaN    8.000000    2.000000   \n",
      "\n",
      "             Fare  \n",
      "count  177.000000  \n",
      "mean    22.158567  \n",
      "std     31.874608  \n",
      "min      0.000000  \n",
      "25%      7.750000  \n",
      "50%      8.050000  \n",
      "75%     24.150000  \n",
      "max    227.525000  \n",
      "\n",
      "   Survived  PassengerId\n",
      "0         0          125\n",
      "1         1           52\n",
      "\n",
      "Ratio of non_survivors/survivors for missing age : 2.40384615385\n"
     ]
    }
   ],
   "source": [
    "# Check the distribution of 'Survived' class for data points with missing age\n",
    "df_missing_age = df['Age'].dropna()\n",
    "\n",
    "s_null_age = pd.isnull(df['Age'])\n",
    "df_missing_age = df[s_null_age]\n",
    "print df_missing_age.shape\n",
    "print\n",
    "print df_missing_age.describe()\n",
    "print\n",
    "\n",
    "by_survival = df_missing_age.groupby(['Survived'], as_index=False)['PassengerId'].agg('count')\n",
    "print by_survival\n",
    "print '\\nRatio of non_survivors/survivors for missing age : ' + str(by_survival['PassengerId'][0]/float(by_survival['PassengerId'][1]))"
   ]
  },
  {
   "cell_type": "code",
   "execution_count": 14,
   "metadata": {
    "collapsed": false
   },
   "outputs": [
    {
     "name": "stdout",
     "output_type": "stream",
     "text": [
      "(714, 12)\n",
      "\n",
      "       PassengerId    Survived      Pclass         Age       SibSp  \\\n",
      "count   714.000000  714.000000  714.000000  714.000000  714.000000   \n",
      "mean    448.582633    0.406162    2.236695   29.699118    0.512605   \n",
      "std     259.119524    0.491460    0.838250   14.526497    0.929783   \n",
      "min       1.000000    0.000000    1.000000    0.420000    0.000000   \n",
      "25%     222.250000    0.000000    1.000000   20.125000    0.000000   \n",
      "50%     445.000000    0.000000    2.000000   28.000000    0.000000   \n",
      "75%     677.750000    1.000000    3.000000   38.000000    1.000000   \n",
      "max     891.000000    1.000000    3.000000   80.000000    5.000000   \n",
      "\n",
      "            Parch        Fare  \n",
      "count  714.000000  714.000000  \n",
      "mean     0.431373   34.694514  \n",
      "std      0.853289   52.918930  \n",
      "min      0.000000    0.000000  \n",
      "25%      0.000000    8.050000  \n",
      "50%      0.000000   15.741700  \n",
      "75%      1.000000   33.375000  \n",
      "max      6.000000  512.329200  \n",
      "\n",
      "   Survived  PassengerId\n",
      "0         0          424\n",
      "1         1          290\n",
      "\n",
      "Ratio of non_survivors/survivors for missing age : 1.46206896552\n"
     ]
    }
   ],
   "source": [
    "# Check the distribution of 'Survived' class with data points for valid age\n",
    "def is_null(x):\n",
    "    if x == True:\n",
    "        return False\n",
    "    else:\n",
    "        return True\n",
    "    \n",
    "# remove missing age:\n",
    "\n",
    "s_null_age = pd.isnull(df['Age'])\n",
    "s_valid_age = s_null_age.apply(is_null)\n",
    "\n",
    "df_no_missing_age = df[s_valid_age]\n",
    "\n",
    "print df_no_missing_age.shape\n",
    "print\n",
    "print df_no_missing_age.describe()\n",
    "print\n",
    "\n",
    "by_survival = df_no_missing_age.groupby(['Survived'], as_index=False)['PassengerId'].agg('count')\n",
    "print by_survival\n",
    "print '\\nRatio of non_survivors/survivors for missing age : ' + str(by_survival['PassengerId'][0]/float(by_survival['PassengerId'][1]))"
   ]
  },
  {
   "cell_type": "markdown",
   "metadata": {},
   "source": [
    "### Note on missing data: \n",
    "In the original data, the ratio of non-survivors/survivors is 1.6. On the other hand, data with missing ages has 125 passengers who died versus 52 survivors (a ratio of 2.45). And, for passengers whose age is known, 1.5 passengers died for each survivor.  \n",
    "\n",
    "The age of more dead passengers remains unknown as opposed to the survivors. For the remaining analysis, I will remove the missing age data points, since the total class distribution doesn't change much after the missing ages are dropped.\n",
    "\n",
    "Cabin: Too many Cabin variables are missing, so the variable will have to be omitted "
   ]
  },
  {
   "cell_type": "markdown",
   "metadata": {},
   "source": [
    "## Data Exploration:\n",
    "I begin with exploring the attributes and investigate how specific variables differ for survivors and non-survivors. Based on the results, we decide what statistical tests can be done to draw meaningful conclusions from the dataset. The variables plotted below are:\n",
    "1. Age\n",
    "2. Sex\n",
    "3. Fare\n",
    "4. Siblings"
   ]
  },
  {
   "cell_type": "code",
   "execution_count": 16,
   "metadata": {
    "collapsed": false
   },
   "outputs": [
    {
     "name": "stdout",
     "output_type": "stream",
     "text": [
      "Number of survivors in processed data : 290\n",
      "Number of non-survivors in processed data : 424\n"
     ]
    }
   ],
   "source": [
    "# Age Distribution by Survival\n",
    "df_survivors = df_no_missing_age[df_no_missing_age['Survived'] == 1]\n",
    "df_died = df_no_missing_age[df_no_missing_age['Survived'] == 0]\n",
    "\n",
    "print \"Number of survivors in processed data : \" + str(df_survivors.shape[0])\n",
    "print \"Number of non-survivors in processed data : \" + str(df_died.shape[0])"
   ]
  },
  {
   "cell_type": "code",
   "execution_count": 7,
   "metadata": {
    "collapsed": false
   },
   "outputs": [
    {
     "data": {
      "text/plain": [
       "<matplotlib.text.Text at 0xa0e1cf8>"
      ]
     },
     "execution_count": 7,
     "metadata": {},
     "output_type": "execute_result"
    },
    {
     "data": {
      "image/png": "[encoded data removed]",
      "text/plain": [
       "<matplotlib.figure.Figure at 0xa05b358>"
      ]
     },
     "metadata": {},
     "output_type": "display_data"
    }
   ],
   "source": [
    "# Age distribution by survival\n",
    "\n",
    "plt.hist(df_survivors['Age'], alpha=.75, label='Age of survivors')\n",
    "plt.hist(df_died['Age'], alpha=0.60, label='Age of non-survivors')\n",
    "plt.title('Age distribution by survival')\n",
    "plt.legend(loc='upper right')\n",
    "plt.ylabel('Frequency')\n",
    "plt.xlabel('Age')"
   ]
  },
  {
   "cell_type": "code",
   "execution_count": 8,
   "metadata": {
    "collapsed": false
   },
   "outputs": [
    {
     "data": {
      "text/plain": [
       "<matplotlib.text.Text at 0xa19a0f0>"
      ]
     },
     "execution_count": 8,
     "metadata": {},
     "output_type": "execute_result"
    },
    {
     "data": {
      "image/png": "[encoded data removed]",
      "text/plain": [
       "<matplotlib.figure.Figure at 0x6d437f0>"
      ]
     },
     "metadata": {},
     "output_type": "display_data"
    }
   ],
   "source": [
    "# Sex distribution by Survival\n",
    "\n",
    "df_survivors.groupby('Sex').size().plot(kind='bar',alpha = .5,color = 'green', label = 'Gender of survivors')\n",
    "df_died.groupby('Sex').size().plot(kind='bar',alpha =.5, color = 'red',label = 'Gender of non-survivors')\n",
    "plt.title('Gender distribution by survival')\n",
    "plt.legend(loc='upper right')\n",
    "plt.ylabel('Frequency')\n",
    "plt.xlabel('Sex')"
   ]
  },
  {
   "cell_type": "code",
   "execution_count": 9,
   "metadata": {
    "collapsed": false
   },
   "outputs": [
    {
     "data": {
      "text/plain": [
       "<matplotlib.text.Text at 0xa4e7978>"
      ]
     },
     "execution_count": 9,
     "metadata": {},
     "output_type": "execute_result"
    },
    {
     "data": {
      "image/png": "[encoded data removed]",
      "text/plain": [
       "<matplotlib.figure.Figure at 0xa2386d8>"
      ]
     },
     "metadata": {},
     "output_type": "display_data"
    }
   ],
   "source": [
    "# Fare distribution of survivors vs non survivors\n",
    "\n",
    "plt.hist(df_survivors['Fare'], label='Fare of tickets of survivors')\n",
    "plt.title('Fare distribution of survivors')\n",
    "plt.legend(loc='upper right')\n",
    "plt.ylabel('Frequency')\n",
    "plt.xlabel('Fare')"
   ]
  },
  {
   "cell_type": "code",
   "execution_count": 10,
   "metadata": {
    "collapsed": false
   },
   "outputs": [
    {
     "data": {
      "text/plain": [
       "<matplotlib.text.Text at 0xa4dd470>"
      ]
     },
     "execution_count": 10,
     "metadata": {},
     "output_type": "execute_result"
    },
    {
     "data": {
      "image/png": "[encoded data removed]",
      "text/plain": [
       "<matplotlib.figure.Figure at 0xa904e80>"
      ]
     },
     "metadata": {},
     "output_type": "display_data"
    }
   ],
   "source": [
    "plt.hist(df_died['Fare'], label='Fare distribution of dead passengers')\n",
    "plt.title('Fare distribution of non survivors')\n",
    "plt.legend(loc='upper right')\n",
    "plt.ylabel('Frequency')\n",
    "plt.xlabel('Fare')"
   ]
  },
  {
   "cell_type": "code",
   "execution_count": 11,
   "metadata": {
    "collapsed": false
   },
   "outputs": [
    {
     "data": {
      "text/plain": [
       "<matplotlib.text.Text at 0xa752a20>"
      ]
     },
     "execution_count": 11,
     "metadata": {},
     "output_type": "execute_result"
    },
    {
     "data": {
      "image/png": "[encoded data removed]",
      "text/plain": [
       "<matplotlib.figure.Figure at 0xaa6d5f8>"
      ]
     },
     "metadata": {},
     "output_type": "display_data"
    }
   ],
   "source": [
    "# SibSp distribution by survival\n",
    "\n",
    "plt.hist(df_survivors['SibSp'], alpha=.75, label='Siblings of survivors')\n",
    "plt.hist(df_died['SibSp'], alpha=0.60, label='Siblings of non survivors')\n",
    "plt.title('SibSp distribution by survival')\n",
    "plt.legend(loc='upper right')\n",
    "plt.ylabel('Frequency')\n",
    "plt.xlabel('SibSp')"
   ]
  },
  {
   "cell_type": "markdown",
   "metadata": {},
   "source": [
    "## Insights from the plots :\n",
    "1. Age by Survival chart shows that more of the survivors were children or old passengers. All other age groups consist of more non-survivors - specially the age group 20-30. \n",
    "\n",
    "2. More of the survivors were women than men. \n",
    "\n",
    "3. The Fare distribution charts also reveal that anyone above 300 fare survived. Passengers who paid higher fares included more survivors than those who paid lower fares.\n",
    "\n",
    "4. Number of siblings doesn't provide any insight if there is any effect on survivality."
   ]
  },
  {
   "cell_type": "markdown",
   "metadata": {},
   "source": [
    "## Statistical Tests: \n",
    "### T-test: Are the age distribution of survivors and non-survivors signficantly different? \n",
    "\n",
    "Null Hypothesis: Average age of survivors =  Average age of non-survivors (i.e., both samples drawn from same population)\n",
    "\n",
    "Alternate Hypothesis: Average age of survivors !=  Average age of non-survivors\n",
    "\n",
    "Assumptions: Sample data used can estimate the population variance. \n",
    "\n",
    "Level of Significance = 5%"
   ]
  },
  {
   "cell_type": "code",
   "execution_count": 24,
   "metadata": {
    "collapsed": false
   },
   "outputs": [
    {
     "name": "stdout",
     "output_type": "stream",
     "text": [
      "ttest_ind: t = -2.04603  p = 0.0411897\n",
      "We may reject the null hypothesis as p < alpha(0.05)\n"
     ]
    }
   ],
   "source": [
    "# T-test : Are the age distribution of survivors and non-survivors signficantly different?\n",
    "\n",
    "from scipy.stats import ttest_ind\n",
    "\n",
    "alpha = 0.05\n",
    "\n",
    "# a t_test function returning the inference based on alpha level and one/two tailed test\n",
    "def t_test(a,b,alpha,tail):\n",
    "    t, p = ttest_ind(a, b, equal_var=False)\n",
    "    print(\"ttest_ind: t = %g  p = %g\" % (t, p))\n",
    "    \n",
    "    # scipy returns a two-tailed p value. Convert to one tailed p-value for one sided test.\n",
    "    p_tail_based = p\n",
    "    if tail == 1:\n",
    "        p_tail_based = p/2\n",
    "        \n",
    "    if p_tail_based < alpha:\n",
    "        return \"We may reject the null hypothesis as p < alpha(\" + str(alpha) + \")\"\n",
    "    else:\n",
    "        return \"We accept the null hypothesis as p > alpha(\" + str(alpha) + \")\"\n",
    "        \n",
    "survivors_age = list(df_survivors['Age'])\n",
    "non_survivors_age = list(df_died['Age'])\n",
    "\n",
    "print t_test(survivors_age,non_survivors_age,alpha,2)\n",
    "\n",
    "#t, p = ttest_ind(survivors_age, non_survivors_age, equal_var=False)\n",
    "#print(\"ttest_ind: t = %g  p = %g\" % (t, p))"
   ]
  },
  {
   "cell_type": "markdown",
   "metadata": {},
   "source": [
    "### Inference:\n",
    "Given p value is less than alpha level of significance (5%), we may reject the null hypothesis. The difference between average age of survivors and non-survivors is statistically significant "
   ]
  },
  {
   "cell_type": "markdown",
   "metadata": {},
   "source": [
    "## Statistical Tests \n",
    "\n",
    "### T-test: Does women have a better chance of survivality than men?\n",
    "\n",
    "Null Hypothesis: No difference in survivality between men and women\n",
    "\n",
    "Alternate Hypothesis: Women have a better chance of survivality than men\n",
    "\n",
    "Note: One tailed test"
   ]
  },
  {
   "cell_type": "code",
   "execution_count": 26,
   "metadata": {
    "collapsed": false
   },
   "outputs": [
    {
     "name": "stdout",
     "output_type": "stream",
     "text": [
      "ttest_ind: t = 16.7764  p = 1.05339e-50\n",
      "We may reject the null hypothesis as p < alpha(0.05)\n"
     ]
    }
   ],
   "source": [
    "# T-test: Does women have a better chance of survivality than men? (One tailed test)\n",
    "\n",
    "from scipy.stats import ttest_ind\n",
    "\n",
    "df_women = df_no_missing_age[df_no_missing_age['Sex'] == 'female']\n",
    "df_men = df_no_missing_age[df_no_missing_age['Sex'] == 'male']\n",
    "\n",
    "survival_women = list(df_women['Survived'])\n",
    "survival_men = list(df_men['Survived'])\n",
    "\n",
    "print t_test(survival_women,survival_men,alpha,1)"
   ]
  },
  {
   "cell_type": "markdown",
   "metadata": {},
   "source": [
    "### Inference:\n",
    "Given p value is less than alpha level of significance (5%), we may reject the null hypothesis. The difference in survivality is statistically significant between men and women"
   ]
  },
  {
   "cell_type": "markdown",
   "metadata": {},
   "source": [
    "## Correlation between variables"
   ]
  },
  {
   "cell_type": "code",
   "execution_count": 185,
   "metadata": {
    "collapsed": false
   },
   "outputs": [
    {
     "name": "stdout",
     "output_type": "stream",
     "text": [
      "             PassengerId  Survived    Pclass       Age     SibSp     Parch  \\\n",
      "PassengerId     1.000000 -0.005007 -0.035144  0.036847 -0.057527 -0.001652   \n",
      "Survived       -0.005007  1.000000 -0.338481 -0.077221 -0.035322  0.081629   \n",
      "Pclass         -0.035144 -0.338481  1.000000 -0.369226  0.083081  0.018443   \n",
      "Age             0.036847 -0.077221 -0.369226  1.000000 -0.308247 -0.189119   \n",
      "SibSp          -0.057527 -0.035322  0.083081 -0.308247  1.000000  0.414838   \n",
      "Parch          -0.001652  0.081629  0.018443 -0.189119  0.414838  1.000000   \n",
      "Fare            0.012658  0.257307 -0.549500  0.096067  0.159651  0.216225   \n",
      "\n",
      "                 Fare  \n",
      "PassengerId  0.012658  \n",
      "Survived     0.257307  \n",
      "Pclass      -0.549500  \n",
      "Age          0.096067  \n",
      "SibSp        0.159651  \n",
      "Parch        0.216225  \n",
      "Fare         1.000000  \n"
     ]
    }
   ],
   "source": [
    "print df.corr()"
   ]
  },
  {
   "cell_type": "markdown",
   "metadata": {},
   "source": [
    "### Notes:\n",
    "There are no strong correlation between any of the attributes. (Fare and Class has a -.54 correlation which is evident)"
   ]
  },
  {
   "cell_type": "markdown",
   "metadata": {},
   "source": [
    "### Bivariate Plots:"
   ]
  },
  {
   "cell_type": "code",
   "execution_count": 7,
   "metadata": {
    "collapsed": false
   },
   "outputs": [
    {
     "data": {
      "text/plain": [
       "<matplotlib.text.Text at 0x9e0b198>"
      ]
     },
     "execution_count": 7,
     "metadata": {},
     "output_type": "execute_result"
    },
    {
     "data": {
      "image/png": "[encoded data removed]",
      "text/plain": [
       "<matplotlib.figure.Figure at 0x3c8e748>"
      ]
     },
     "metadata": {},
     "output_type": "display_data"
    }
   ],
   "source": [
    "sns.barplot(x='Sex', y='Survived', hue='Pclass', data=df_no_missing_age)\n",
    "plt.title('Mean Survived by class and gender')"
   ]
  },
  {
   "cell_type": "code",
   "execution_count": 8,
   "metadata": {
    "collapsed": false
   },
   "outputs": [
    {
     "data": {
      "text/plain": [
       "<matplotlib.text.Text at 0x9fd3208>"
      ]
     },
     "execution_count": 8,
     "metadata": {},
     "output_type": "execute_result"
    },
    {
     "data": {
      "image/png": "[encoded data removed]",
      "text/plain": [
       "<matplotlib.figure.Figure at 0x3f71f60>"
      ]
     },
     "metadata": {},
     "output_type": "display_data"
    }
   ],
   "source": [
    "sns.barplot(x='Sex', y='Fare', hue='Pclass', data=df_no_missing_age)\n",
    "plt.title('Mean Fare by class and gender')"
   ]
  },
  {
   "cell_type": "markdown",
   "metadata": {},
   "source": [
    "### Insights from the plots\n",
    "Plotting Age and class against mean survived - validates again that far more women survived than men and the number of first class survivors were almost four times of other classes for both men and women. Mean fare vs Age and Class reveals that more women paid higher fares, were in first class and more survived."
   ]
  },
  {
   "cell_type": "markdown",
   "metadata": {},
   "source": [
    "## Multivariate plots - comparing age, gender, fare and siblings "
   ]
  },
  {
   "cell_type": "code",
   "execution_count": 63,
   "metadata": {
    "collapsed": false
   },
   "outputs": [
    {
     "name": "stderr",
     "output_type": "stream",
     "text": [
      "C:\\Anaconda2\\lib\\site-packages\\ipykernel\\__main__.py:2: SettingWithCopyWarning: \n",
      "A value is trying to be set on a copy of a slice from a DataFrame.\n",
      "Try using .loc[row_indexer,col_indexer] = value instead\n",
      "\n",
      "See the caveats in the documentation: http://pandas.pydata.org/pandas-docs/stable/indexing.html#indexing-view-versus-copy\n",
      "  from ipykernel import kernelapp as app\n"
     ]
    },
    {
     "name": "stdout",
     "output_type": "stream",
     "text": [
      "\n"
     ]
    },
    {
     "data": {
      "text/plain": [
       "<seaborn.axisgrid.FacetGrid at 0x13d907f0>"
      ]
     },
     "execution_count": 63,
     "metadata": {},
     "output_type": "execute_result"
    },
    {
     "data": {
      "image/png": "[encoded data removed]",
      "text/plain": [
       "<matplotlib.figure.Figure at 0x17302a58>"
      ]
     },
     "metadata": {},
     "output_type": "display_data"
    }
   ],
   "source": [
    "# Create a new variable 'Survival' mapping from 'Survived'\n",
    "df_no_missing_age['Survival'] = df_no_missing_age.Survived.map({0 : 'Died', 1 : 'Survived'})\n",
    "\n",
    "t = df_no_missing_age.groupby(['Pclass', 'Sex', 'Survival'], as_index = False)['Name'].count()\n",
    "print \n",
    "p = sns.factorplot(data = t, x = 'Pclass', y = 'Name', col = 'Survival', hue = 'Sex', kind = 'bar')\n",
    "(p.set_axis_labels('', 'Passenger count').set_xticklabels(['First Class', 'Second Class', 'Third Class']).set_titles(\"{col_name}\"))"
   ]
  },
  {
   "cell_type": "code",
   "execution_count": 61,
   "metadata": {
    "collapsed": false
   },
   "outputs": [
    {
     "name": "stdout",
     "output_type": "stream",
     "text": [
      "  age_category  Name\n",
      "0        Child    64\n",
      "1     Teenager   115\n",
      "2        Adult   527\n",
      "3       Senior     8\n"
     ]
    },
    {
     "name": "stderr",
     "output_type": "stream",
     "text": [
      "C:\\Anaconda2\\lib\\site-packages\\ipykernel\\__main__.py:5: SettingWithCopyWarning: \n",
      "A value is trying to be set on a copy of a slice from a DataFrame.\n",
      "Try using .loc[row_indexer,col_indexer] = value instead\n",
      "\n",
      "See the caveats in the documentation: http://pandas.pydata.org/pandas-docs/stable/indexing.html#indexing-view-versus-copy\n"
     ]
    }
   ],
   "source": [
    "# Create bins for age categories and compare with \n",
    "bins = [0, 10, 20, 65, 100]\n",
    "group_names = ['Child', 'Teenager', 'Adult', 'Senior']\n",
    "age_category = pd.cut(df_no_missing_age['Age'], bins, labels=group_names)\n",
    "df_no_missing_age['age_category'] = pd.cut(df_no_missing_age['Age'], bins, labels=group_names)\n",
    "\n",
    "print df_no_missing_age.groupby(['age_category'], as_index = False)['Name'].count()"
   ]
  },
  {
   "cell_type": "code",
   "execution_count": 64,
   "metadata": {
    "collapsed": false
   },
   "outputs": [
    {
     "data": {
      "text/plain": [
       "<seaborn.axisgrid.FacetGrid at 0x17e3f860>"
      ]
     },
     "execution_count": 64,
     "metadata": {},
     "output_type": "execute_result"
    },
    {
     "data": {
      "image/png": "[encoded data removed]",
      "text/plain": [
       "<matplotlib.figure.Figure at 0x1634ccc0>"
      ]
     },
     "metadata": {},
     "output_type": "display_data"
    }
   ],
   "source": [
    "# Plotting Fare by age categories and gender\n",
    "sns.factorplot(x=\"age_category\", y=\"Fare\", col = 'Survival',hue=\"Sex\", data=df_no_missing_age)"
   ]
  },
  {
   "cell_type": "code",
   "execution_count": 65,
   "metadata": {
    "collapsed": false
   },
   "outputs": [
    {
     "data": {
      "text/plain": [
       "<seaborn.axisgrid.FacetGrid at 0x17338cc0>"
      ]
     },
     "execution_count": 65,
     "metadata": {},
     "output_type": "execute_result"
    },
    {
     "data": {
      "image/png": "[encoded data removed]",
      "text/plain": [
       "<matplotlib.figure.Figure at 0x18642ef0>"
      ]
     },
     "metadata": {},
     "output_type": "display_data"
    }
   ],
   "source": [
    "# Plotting Siblings by age categories and gender\n",
    "sns.factorplot(x=\"age_category\", y=\"SibSp\", col = 'Survival',hue=\"Sex\", data=df_no_missing_age)"
   ]
  },
  {
   "cell_type": "markdown",
   "metadata": {},
   "source": [
    "## Insights from the Multivariate graphs:\n",
    "\n",
    "Plotting the variables by different segments us the following insights:\n",
    "1. We again see that most of the women from First and Second Class survived barring a few. However almost 50% of women in Third Class died. Men in all classes have a much higher number of non-survivors. An interesting note is that the number of men in First and Third Class is almost equal while lesser men from Second Class survived.\n",
    "\n",
    "2. Segmenting the data by Fare, age_category and gender shows that child and seniors have same fare in both survival categories. But there is a significant difference in fare for adults and teenagers among who died and survived. Women have a much higher fare - and it possibly is the effect of the fares paid by more women (than men) for First and Second classes.\n",
    "\n",
    "3. Segmenting the data by SibSp, age_category and gender - shows that more children with higher number of siblings died than those who had one or less. Also, for teenagers, more women with higher number of siblings died."
   ]
  },
  {
   "cell_type": "markdown",
   "metadata": {},
   "source": [
    "## Predict if a passenger is a survivor given the traits"
   ]
  },
  {
   "cell_type": "code",
   "execution_count": 47,
   "metadata": {
    "collapsed": false
   },
   "outputs": [
    {
     "name": "stdout",
     "output_type": "stream",
     "text": [
      "['Survived' 'Pclass' 'Name' 'Sex' 'Age' 'SibSp' 'Parch' 'Ticket' 'Fare'\n",
      " 'Cabin' 'Embarked' 'Embarked_C' 'Embarked_Q' 'Embarked_S' 'Sex_female'\n",
      " 'Sex_male']\n",
      "\n",
      "['Survived' 'Pclass' 'Age' 'SibSp' 'Parch' 'Fare' 'Embarked_C' 'Embarked_Q'\n",
      " 'Embarked_S' 'Sex_female' 'Sex_male']\n",
      "\n",
      "0    0\n",
      "1    1\n",
      "2    1\n",
      "3    1\n",
      "4    0\n",
      "Name: Survived, dtype: int64\n",
      "['Pclass' 'Age' 'SibSp' 'Parch' 'Fare' 'Embarked_C' 'Embarked_Q'\n",
      " 'Embarked_S' 'Sex_female' 'Sex_male']\n"
     ]
    }
   ],
   "source": [
    "# Processing the dataset to fit classification models\n",
    "\n",
    "# 1. Convert categorical data to numerical data by creating dummy variables\n",
    "\n",
    "df_no_missing_age = df_no_missing_age.drop('PassengerId', 1)\n",
    "\n",
    "df_no_missing_age_dummies = pd.concat([df_no_missing_age, \n",
    "                               pd.get_dummies(df_no_missing_age['Embarked']).rename(columns=lambda x: 'Embarked_' + str(x)), \n",
    "                               pd.get_dummies(df_no_missing_age['Sex']).rename(columns=lambda x: 'Sex_' + str(x))],\n",
    "                                axis=1)\n",
    "print df_no_missing_age_dummies.columns.values\n",
    "\n",
    "df_no_missing_age_dummies = df_no_missing_age_dummies.drop(['Name','Cabin', 'Ticket','Sex','Embarked'], axis=1)\n",
    "print\n",
    "print df_no_missing_age_dummies.columns.values\n",
    "print\n",
    "\n",
    "df_no_missing_age_dummies_Y = df_no_missing_age_dummies['Survived']\n",
    "df_no_missing_age_dummies_X = df_no_missing_age_dummies.drop('Survived',1)\n",
    "\n",
    "print df_no_missing_age_dummies_Y.head()\n",
    "print df_no_missing_age_dummies_X.columns.values\n",
    "\n",
    "# 2. Train and test split\n",
    "X_train, X_test, y_train, y_test = train_test_split(df_no_missing_age_dummies_X, df_no_missing_age_dummies_Y, test_size=0.33, random_state=42)\n"
   ]
  },
  {
   "cell_type": "code",
   "execution_count": 51,
   "metadata": {
    "collapsed": false
   },
   "outputs": [
    {
     "name": "stdout",
     "output_type": "stream",
     "text": [
      "Accuracy of a Decision Tree : 0.758474576271\n"
     ]
    }
   ],
   "source": [
    "#Fitting a decision tree and predict the accuracy of the model\n",
    "\n",
    "from sklearn.cross_validation import cross_val_score\n",
    "from sklearn.tree import DecisionTreeClassifier\n",
    "from sklearn.cross_validation import train_test_split\n",
    "\n",
    "clfr = DecisionTreeClassifier()\n",
    "tree.fit = clfr.fit(X_train, y_train)\n",
    "\n",
    "clfr.predict(X_test)\n",
    "tree_accuracy = clfr.score(X_test, y_test, sample_weight=None)\n",
    "print \"Accuracy of a Decision Tree : \" + str(tree_accuracy)\n"
   ]
  },
  {
   "cell_type": "code",
   "execution_count": 52,
   "metadata": {
    "collapsed": false
   },
   "outputs": [
    {
     "name": "stdout",
     "output_type": "stream",
     "text": [
      "Accuracy of a Random Forest : 0.783898305085\n",
      "\n",
      "Feature ranking:\n",
      "1. feature 1 / Age : (0.277743)\n",
      "2. feature 4 / Fare : (0.205509)\n",
      "3. feature 9 / Sex_male : (0.179602)\n",
      "4. feature 8 / Sex_female : (0.130091)\n",
      "5. feature 0 / Pclass : (0.101731)\n",
      "6. feature 2 / SibSp : (0.040881)\n",
      "7. feature 3 / Parch : (0.040579)\n",
      "8. feature 5 / Embarked_C : (0.011103)\n",
      "9. feature 7 / Embarked_S : (0.009570)\n",
      "10. feature 6 / Embarked_Q : (0.003191)\n"
     ]
    },
    {
     "data": {
      "text/plain": [
       "(-1, 10)"
      ]
     },
     "execution_count": 52,
     "metadata": {},
     "output_type": "execute_result"
    },
    {
     "data": {
      "image/png": "[encoded data removed]",
      "text/plain": [
       "<matplotlib.figure.Figure at 0xb5bd9e8>"
      ]
     },
     "metadata": {},
     "output_type": "display_data"
    }
   ],
   "source": [
    "# Fitting a random forest and predict the accuracy of the model\n",
    "\n",
    "from sklearn.ensemble import ExtraTreesClassifier\n",
    "\n",
    "# Build a forest and compute the feature importances\n",
    "forest = ExtraTreesClassifier(n_estimators=100,\n",
    "                              random_state=0)\n",
    "\n",
    "# X_train, X_test, y_train, y_test\n",
    "X = X_train\n",
    "y = y_train\n",
    "forest.fit(X, y)\n",
    "forest.predict(X_test)\n",
    "forest_accuracy = forest.score(X_test, y_test, sample_weight=None)\n",
    "print \"Accuracy of a Random Forest : \" + str(forest_accuracy)\n",
    "print \n",
    "\n",
    "importances = forest.feature_importances_\n",
    "\n",
    "# feature names\n",
    "feature_names = np.array(X_train.columns.values)\n",
    "\n",
    "std = np.std([tree.feature_importances_ for tree in forest.estimators_], axis=0)\n",
    "indices = np.argsort(importances)[::-1]\n",
    "\n",
    "# Print the feature ranking\n",
    "print(\"Feature ranking:\")\n",
    "\n",
    "for f in range(X.shape[1]):\n",
    "    print(\"%d. feature %d / %s : (%f)\" % (f + 1, indices[f], feature_names[indices[f]], importances[indices[f]]))\n",
    "    \n",
    "# Plot the feature importances of the forest\n",
    "plt.figure()\n",
    "plt.title(\"Feature importances\")\n",
    "plt.bar(range(X.shape[1]), importances[indices],\n",
    "       color=\"r\", yerr=std[indices], align=\"center\")\n",
    "plt.xticks(range(X.shape[1]), indices)\n",
    "plt.xlim([-1, X.shape[1]])"
   ]
  },
  {
   "cell_type": "markdown",
   "metadata": {},
   "source": [
    "### Notes:\n",
    "Fitting a decision tree gives 76 % accuracy of predicting the survivality of a passenger while Random Forests increase the accuracy to 78%. The most important features in the forest are shown as: Age, Fare, Sex and PClass. From our initial exploration, we did see that all these variables have a distinctive trend between survivors and non-survivors. The feature 'Sex' has a high variability among all trees."
   ]
  },
  {
   "cell_type": "markdown",
   "metadata": {},
   "source": [
    "## Limitations of the Analysis:\n",
    "1. The size of the dataset is relatively small. And omitting the missing values further reduces the dataset. Also, this is a data with limited attributes. With other features like health might also distinguish between survivors and non-survivors after initial rescue.\n",
    "\n",
    "2. The Age variable has 19% missing values and I chose to omit these values. The overall distribution (ratio of non-survivors to surivors) doesn't change markedly because of the omission. However, most of the missing age values are for non-survivors and this lose of information can have an impact on the result.\n",
    "\n",
    "3. The decision tree and forest are prone to change with slight changes in data."
   ]
  },
  {
   "cell_type": "markdown",
   "metadata": {},
   "source": [
    "## References \n",
    "1.  http://matplotlib.org/api/pyplot_api.html\n",
    "2.  http://stackoverflow.com/questions/6871201/plot-two-histograms-at-the-same-time-with-matplotlib \n",
    "3.  https://stanford.edu/~mwaskom/software/seaborn/tutorial/categorical.html\n",
    "4.  http://scikit-learn.org/stable/modules/generated/sklearn.preprocessing.LabelEncoder.html#sklearn.preprocessing.LabelEncoder\n",
    "5.  https://www.kaggle.com/c/titanic/forums/t/10433/best-way-to-include-categorial-data-in-the-training-set/55559\n",
    "6.  http://scikit-learn.org/stable/modules/generated/sklearn.tree.DecisionTreeClassifier.html\n",
    "7.  http://docs.scipy.org/doc/scipy/reference/generated/scipy.stats.ttest_ind.html \n",
    "8.  http://stackoverflow.com/questions/22611446/perform-2-sample-t-test\n",
    "9.  http://stackoverflow.com/questions/15984221/how-to-perform-two-sample-one-tailed-t-test-with-numpy-scipy\n",
    "10. http://www.graphpad.com/guides/prism/6/statistics/index.htm?one-tail_vs__two-tail_p_values.htm\n",
    "11. http://chrisalbon.com/python/pandas_binning_data.html "
   ]
  },
  {
   "cell_type": "code",
   "execution_count": null,
   "metadata": {
    "collapsed": true
   },
   "outputs": [],
   "source": []
  }
 ],
 "metadata": {
  "kernelspec": {
   "display_name": "Python 2",
   "language": "python",
   "name": "python2"
  },
  "language_info": {
   "codemirror_mode": {
    "name": "ipython",
    "version": 2
   },
   "file_extension": ".py",
   "mimetype": "text/x-python",
   "name": "python",
   "nbconvert_exporter": "python",
   "pygments_lexer": "ipython2",
   "version": "2.7.12"
  }
 },
 "nbformat": 4,
 "nbformat_minor": 0
}
