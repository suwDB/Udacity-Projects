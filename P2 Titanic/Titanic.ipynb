{
 "cells": [
  {
   "cell_type": "markdown",
   "metadata": {},
   "source": [
    "# Titanic datset analysis : \n",
    "\n",
    "### -       What factors made people more likely to survive?\n",
    "### -       Predict if a passenger is a survivor or not given the traits"
   ]
  },
  {
   "cell_type": "code",
   "execution_count": 65,
   "metadata": {
    "collapsed": false
   },
   "outputs": [
    {
     "name": "stdout",
     "output_type": "stream",
     "text": [
      "Populating the interactive namespace from numpy and matplotlib\n"
     ]
    }
   ],
   "source": [
    "import pandas as pd\n",
    "import numpy as np\n",
    "\n",
    "%pylab inline\n",
    "import matplotlib.pyplot as plt\n",
    "import seaborn as sns"
   ]
  },
  {
   "cell_type": "markdown",
   "metadata": {},
   "source": [
    "## Data Summary"
   ]
  },
  {
   "cell_type": "code",
   "execution_count": 66,
   "metadata": {
    "collapsed": false
   },
   "outputs": [
    {
     "name": "stdout",
     "output_type": "stream",
     "text": [
      "   PassengerId  Survived  Pclass  \\\n",
      "0            1         0       3   \n",
      "1            2         1       1   \n",
      "\n",
      "                                                Name     Sex   Age  SibSp  \\\n",
      "0                            Braund, Mr. Owen Harris    male  22.0      1   \n",
      "1  Cumings, Mrs. John Bradley (Florence Briggs Th...  female  38.0      1   \n",
      "\n",
      "   Parch     Ticket     Fare Cabin Embarked  \n",
      "0      0  A/5 21171   7.2500   NaN        S  \n",
      "1      0   PC 17599  71.2833   C85        C  \n"
     ]
    }
   ],
   "source": [
    "df = pd.read_csv('titanic_data.csv')\n",
    "print df.head(n=2)"
   ]
  },
  {
   "cell_type": "code",
   "execution_count": 68,
   "metadata": {
    "collapsed": false
   },
   "outputs": [
    {
     "name": "stdout",
     "output_type": "stream",
     "text": [
      "Summary of numerical variables : \n",
      "\n",
      "       PassengerId    Survived      Pclass         Age       SibSp  \\\n",
      "count   891.000000  891.000000  891.000000  714.000000  891.000000   \n",
      "mean    446.000000    0.383838    2.308642   29.699118    0.523008   \n",
      "std     257.353842    0.486592    0.836071   14.526497    1.102743   \n",
      "min       1.000000    0.000000    1.000000    0.420000    0.000000   \n",
      "25%     223.500000    0.000000    2.000000   20.125000    0.000000   \n",
      "50%     446.000000    0.000000    3.000000   28.000000    0.000000   \n",
      "75%     668.500000    1.000000    3.000000   38.000000    1.000000   \n",
      "max     891.000000    1.000000    3.000000   80.000000    8.000000   \n",
      "\n",
      "            Parch        Fare  \n",
      "count  891.000000  891.000000  \n",
      "mean     0.381594   32.204208  \n",
      "std      0.806057   49.693429  \n",
      "min      0.000000    0.000000  \n",
      "25%      0.000000    7.910400  \n",
      "50%      0.000000   14.454200  \n",
      "75%      0.000000   31.000000  \n",
      "max      6.000000  512.329200  \n",
      "\n",
      "Summary of categorical variables : \n",
      "\n",
      "                             Name   Sex    Ticket        Cabin Embarked\n",
      "count                         891   891       891          204      889\n",
      "unique                        891     2       681          147        3\n",
      "top     Graham, Mr. George Edward  male  CA. 2343  C23 C25 C27        S\n",
      "freq                            1   577         7            4      644\n",
      "\n",
      "Total Survivors and Non-Survivors\n",
      "   Survived  PassengerId\n",
      "0         0          549\n",
      "1         1          342\n",
      "\n",
      "Ratio of non_survivors/survivors: 1.60526315789\n"
     ]
    }
   ],
   "source": [
    "print \"Summary of numerical variables : \\n\"\n",
    "print df.describe()\n",
    "print\n",
    "print 'Summary of categorical variables : \\n'\n",
    "print df.describe(include = ['O'])\n",
    "print\n",
    "\n",
    "# Overall distribution of survivors:\n",
    "by_survival = df.groupby(['Survived'], as_index=False)['PassengerId'].agg('count')\n",
    "print \"Total Survivors and Non-Survivors\"\n",
    "print by_survival\n",
    "print '\\nRatio of non_survivors/survivors: ' + str(by_survival['PassengerId'][0]/float(by_survival['PassengerId'][1]))"
   ]
  },
  {
   "cell_type": "markdown",
   "metadata": {},
   "source": [
    "## Data Pre-processing/Cleaning:"
   ]
  },
  {
   "cell_type": "code",
   "execution_count": 69,
   "metadata": {
    "collapsed": false
   },
   "outputs": [
    {
     "name": "stdout",
     "output_type": "stream",
     "text": [
      "MISSING VALUES TABLE \n",
      "\n",
      "PassengerId      0\n",
      "Survived         0\n",
      "Pclass           0\n",
      "Name             0\n",
      "Sex              0\n",
      "Age            177\n",
      "SibSp            0\n",
      "Parch            0\n",
      "Ticket           0\n",
      "Fare             0\n",
      "Cabin          687\n",
      "Embarked         2\n",
      "dtype: int64\n"
     ]
    }
   ],
   "source": [
    "# Check formMissing values:\n",
    "\n",
    "is_null_df = pd.isnull(df)\n",
    "\n",
    "# Get sum of missing values for each variable:\n",
    "print \"MISSING VALUES TABLE \\n\"\n",
    "print is_null_df.sum()"
   ]
  },
  {
   "cell_type": "markdown",
   "metadata": {},
   "source": [
    "### Notes:\n",
    "1. From summary : No outliers in any of the numeric attributes\n",
    "2. There are missing variables for Age, Cabin and Embarked. Cabin has more than 50% of missing variables. Age and Embarked has lesser missing variables which can be removed. "
   ]
  },
  {
   "cell_type": "code",
   "execution_count": 70,
   "metadata": {
    "collapsed": false
   },
   "outputs": [
    {
     "name": "stdout",
     "output_type": "stream",
     "text": [
      "(177, 12)\n",
      "\n",
      "       PassengerId    Survived      Pclass  Age       SibSp       Parch  \\\n",
      "count   177.000000  177.000000  177.000000  0.0  177.000000  177.000000   \n",
      "mean    435.581921    0.293785    2.598870  NaN    0.564972    0.180791   \n",
      "std     250.552901    0.456787    0.763216  NaN    1.626316    0.534145   \n",
      "min       6.000000    0.000000    1.000000  NaN    0.000000    0.000000   \n",
      "25%     230.000000    0.000000    3.000000  NaN    0.000000    0.000000   \n",
      "50%     452.000000    0.000000    3.000000  NaN    0.000000    0.000000   \n",
      "75%     634.000000    1.000000    3.000000  NaN    0.000000    0.000000   \n",
      "max     889.000000    1.000000    3.000000  NaN    8.000000    2.000000   \n",
      "\n",
      "             Fare  \n",
      "count  177.000000  \n",
      "mean    22.158567  \n",
      "std     31.874608  \n",
      "min      0.000000  \n",
      "25%      7.750000  \n",
      "50%      8.050000  \n",
      "75%     24.150000  \n",
      "max    227.525000  \n",
      "\n",
      "   Survived  PassengerId\n",
      "0         0          125\n",
      "1         1           52\n",
      "\n",
      "Ratio of non_survivors/survivors for missing age : 2.40384615385\n"
     ]
    }
   ],
   "source": [
    "# Check the distribution of 'Survived' class for data points with missing age\n",
    "df_missing_age = df['Age'].dropna()\n",
    "\n",
    "s_null_age = pd.isnull(df['Age'])\n",
    "df_missing_age = df[s_null_age]\n",
    "print df_missing_age.shape\n",
    "print\n",
    "print df_missing_age.describe()\n",
    "print\n",
    "\n",
    "by_survival = df_missing_age.groupby(['Survived'], as_index=False)['PassengerId'].agg('count')\n",
    "print by_survival\n",
    "print '\\nRatio of non_survivors/survivors for missing age : ' + str(by_survival['PassengerId'][0]/float(by_survival['PassengerId'][1]))"
   ]
  },
  {
   "cell_type": "code",
   "execution_count": 71,
   "metadata": {
    "collapsed": false
   },
   "outputs": [
    {
     "name": "stdout",
     "output_type": "stream",
     "text": [
      "(714, 12)\n",
      "\n",
      "       PassengerId    Survived      Pclass         Age       SibSp  \\\n",
      "count   714.000000  714.000000  714.000000  714.000000  714.000000   \n",
      "mean    448.582633    0.406162    2.236695   29.699118    0.512605   \n",
      "std     259.119524    0.491460    0.838250   14.526497    0.929783   \n",
      "min       1.000000    0.000000    1.000000    0.420000    0.000000   \n",
      "25%     222.250000    0.000000    1.000000   20.125000    0.000000   \n",
      "50%     445.000000    0.000000    2.000000   28.000000    0.000000   \n",
      "75%     677.750000    1.000000    3.000000   38.000000    1.000000   \n",
      "max     891.000000    1.000000    3.000000   80.000000    5.000000   \n",
      "\n",
      "            Parch        Fare  \n",
      "count  714.000000  714.000000  \n",
      "mean     0.431373   34.694514  \n",
      "std      0.853289   52.918930  \n",
      "min      0.000000    0.000000  \n",
      "25%      0.000000    8.050000  \n",
      "50%      0.000000   15.741700  \n",
      "75%      1.000000   33.375000  \n",
      "max      6.000000  512.329200  \n",
      "\n",
      "   Survived  PassengerId\n",
      "0         0          424\n",
      "1         1          290\n",
      "\n",
      "Ratio of non_survivors/survivors for missing age : 1.46206896552\n"
     ]
    }
   ],
   "source": [
    "# Check the distribution of 'Survived' class with data points for valid age\n",
    "def is_null(x):\n",
    "    if x == True:\n",
    "        return False\n",
    "    else:\n",
    "        return True\n",
    "    \n",
    "# remove missing age:\n",
    "\n",
    "s_null_age = pd.isnull(df['Age'])\n",
    "s_valid_age = s_null_age.apply(is_null)\n",
    "\n",
    "df_no_missing_age = df[s_valid_age]\n",
    "\n",
    "print df_no_missing_age.shape\n",
    "print\n",
    "print df_no_missing_age.describe()\n",
    "print\n",
    "\n",
    "by_survival = df_no_missing_age.groupby(['Survived'], as_index=False)['PassengerId'].agg('count')\n",
    "print by_survival\n",
    "print '\\nRatio of non_survivors/survivors for missing age : ' + str(by_survival['PassengerId'][0]/float(by_survival['PassengerId'][1]))"
   ]
  },
  {
   "cell_type": "markdown",
   "metadata": {},
   "source": [
    "### Note: \n",
    "In the original data, the ratio of non-survivors/survivors is 1.6. On the other hand, data with missing ages has 125 passengers who died versus 52 survivors (a ratio of 2.45). And, for passengers whose age is known, 1.5 passengers died for each survivor.  \n",
    "\n",
    "The age of more dead passengers remains unknown as opposed to the survivors. For the remaining analysis, I will remove the missing age data points, since the total class distribution doesn't change much after the missing ages are dropped.\n",
    "\n",
    "Cabin: Too many Cabin variables are missing, so the variable will have to be omitted "
   ]
  },
  {
   "cell_type": "markdown",
   "metadata": {},
   "source": [
    "## Data Exploration"
   ]
  },
  {
   "cell_type": "code",
   "execution_count": 72,
   "metadata": {
    "collapsed": false
   },
   "outputs": [
    {
     "data": {
      "text/plain": [
       "<matplotlib.text.Text at 0xb2cd9b0>"
      ]
     },
     "execution_count": 72,
     "metadata": {},
     "output_type": "execute_result"
    },
    {
     "data": {
      "image/png": "[encoded data removed]",
      "text/plain": [
       "<matplotlib.figure.Figure at 0xb1065f8>"
      ]
     },
     "metadata": {},
     "output_type": "display_data"
    }
   ],
   "source": [
    "df_survivors = df_no_missing_age[df_no_missing_age['Survived'] == 1]\n",
    "df_died = df_no_missing_age[df_no_missing_age['Survived'] == 0]\n",
    "\n",
    "plt.hist(df_survivors['Age'], alpha=.75, label='Age of survivors')\n",
    "plt.hist(df_died['Age'], alpha=0.60, label='Age of non-survivors')\n",
    "plt.title('Age distribution by survival')\n",
    "plt.legend(loc='upper right')\n",
    "plt.ylabel('Frequency')\n",
    "plt.xlabel('Age')"
   ]
  },
  {
   "cell_type": "code",
   "execution_count": 73,
   "metadata": {
    "collapsed": false
   },
   "outputs": [
    {
     "data": {
      "text/plain": [
       "<matplotlib.text.Text at 0xb2ec908>"
      ]
     },
     "execution_count": 73,
     "metadata": {},
     "output_type": "execute_result"
    },
    {
     "data": {
      "image/png": "[encoded data removed]",
      "text/plain": [
       "<matplotlib.figure.Figure at 0xb106a20>"
      ]
     },
     "metadata": {},
     "output_type": "display_data"
    }
   ],
   "source": [
    "df_survivors.groupby('Sex').size().plot(kind='bar',alpha = .5,color = 'green', label = 'Gender of survivors')\n",
    "df_died.groupby('Sex').size().plot(kind='bar',alpha =.5, color = 'red',label = 'Gender of non-survivors')\n",
    "plt.title('Gender distribution by survival')\n",
    "plt.legend(loc='upper right')\n",
    "plt.ylabel('Frequency')\n",
    "plt.xlabel('Sex')"
   ]
  },
  {
   "cell_type": "code",
   "execution_count": 75,
   "metadata": {
    "collapsed": false
   },
   "outputs": [
    {
     "data": {
      "text/plain": [
       "<matplotlib.text.Text at 0xb106320>"
      ]
     },
     "execution_count": 75,
     "metadata": {},
     "output_type": "execute_result"
    },
    {
     "data": {
      "image/png": "[encoded data removed]",
      "text/plain": [
       "<matplotlib.figure.Figure at 0xbed0748>"
      ]
     },
     "metadata": {},
     "output_type": "display_data"
    }
   ],
   "source": [
    "plt.hist(df_survivors['Fare'], label='Fare of tickets of survivors')\n",
    "plt.title('Fare distribution of survivors')\n",
    "plt.legend(loc='upper right')\n",
    "plt.ylabel('Frequency')\n",
    "plt.xlabel('Fare')"
   ]
  },
  {
   "cell_type": "code",
   "execution_count": 74,
   "metadata": {
    "collapsed": false
   },
   "outputs": [
    {
     "data": {
      "text/plain": [
       "<matplotlib.text.Text at 0xb684828>"
      ]
     },
     "execution_count": 74,
     "metadata": {},
     "output_type": "execute_result"
    },
    {
     "data": {
      "image/png": "[encoded data removed]",
      "text/plain": [
       "<matplotlib.figure.Figure at 0xb6a83c8>"
      ]
     },
     "metadata": {},
     "output_type": "display_data"
    }
   ],
   "source": [
    "plt.hist(df_died['Fare'], label='Fare distribution of dead passengers')\n",
    "plt.title('Fare distribution of non survivors')\n",
    "plt.legend(loc='upper right')\n",
    "plt.ylabel('Frequency')\n",
    "plt.xlabel('Fare')"
   ]
  },
  {
   "cell_type": "code",
   "execution_count": 76,
   "metadata": {
    "collapsed": false
   },
   "outputs": [
    {
     "data": {
      "text/plain": [
       "<matplotlib.text.Text at 0xc1615f8>"
      ]
     },
     "execution_count": 76,
     "metadata": {},
     "output_type": "execute_result"
    },
    {
     "data": {
      "image/png": "[encoded data removed]",
      "text/plain": [
       "<matplotlib.figure.Figure at 0xa141f98>"
      ]
     },
     "metadata": {},
     "output_type": "display_data"
    }
   ],
   "source": [
    "plt.hist(df_survivors['SibSp'], alpha=.75, label='Siblings of survivors')\n",
    "plt.hist(df_died['SibSp'], alpha=0.60, label='Siblings of non survivors')\n",
    "plt.title('SibSp distribution by survival')\n",
    "plt.legend(loc='upper right')\n",
    "plt.ylabel('Frequency')\n",
    "plt.xlabel('SibSp')"
   ]
  },
  {
   "cell_type": "markdown",
   "metadata": {},
   "source": [
    "## Correlation between variables"
   ]
  },
  {
   "cell_type": "code",
   "execution_count": 185,
   "metadata": {
    "collapsed": false
   },
   "outputs": [
    {
     "name": "stdout",
     "output_type": "stream",
     "text": [
      "             PassengerId  Survived    Pclass       Age     SibSp     Parch  \\\n",
      "PassengerId     1.000000 -0.005007 -0.035144  0.036847 -0.057527 -0.001652   \n",
      "Survived       -0.005007  1.000000 -0.338481 -0.077221 -0.035322  0.081629   \n",
      "Pclass         -0.035144 -0.338481  1.000000 -0.369226  0.083081  0.018443   \n",
      "Age             0.036847 -0.077221 -0.369226  1.000000 -0.308247 -0.189119   \n",
      "SibSp          -0.057527 -0.035322  0.083081 -0.308247  1.000000  0.414838   \n",
      "Parch          -0.001652  0.081629  0.018443 -0.189119  0.414838  1.000000   \n",
      "Fare            0.012658  0.257307 -0.549500  0.096067  0.159651  0.216225   \n",
      "\n",
      "                 Fare  \n",
      "PassengerId  0.012658  \n",
      "Survived     0.257307  \n",
      "Pclass      -0.549500  \n",
      "Age          0.096067  \n",
      "SibSp        0.159651  \n",
      "Parch        0.216225  \n",
      "Fare         1.000000  \n"
     ]
    }
   ],
   "source": [
    "print df.corr()"
   ]
  },
  {
   "cell_type": "code",
   "execution_count": 79,
   "metadata": {
    "collapsed": false
   },
   "outputs": [
    {
     "data": {
      "text/plain": [
       "<matplotlib.text.Text at 0xca95ef0>"
      ]
     },
     "execution_count": 79,
     "metadata": {},
     "output_type": "execute_result"
    },
    {
     "data": {
      "image/png": "[encoded data removed]",
      "text/plain": [
       "<matplotlib.figure.Figure at 0xb6a8c18>"
      ]
     },
     "metadata": {},
     "output_type": "display_data"
    }
   ],
   "source": [
    "sns.barplot(x='Sex', y='Survived', hue='Pclass', data=df_no_missing_age)\n",
    "plt.title('Mean Survived by class and gender')"
   ]
  },
  {
   "cell_type": "code",
   "execution_count": 80,
   "metadata": {
    "collapsed": false
   },
   "outputs": [
    {
     "data": {
      "text/plain": [
       "<matplotlib.text.Text at 0xcc65cf8>"
      ]
     },
     "execution_count": 80,
     "metadata": {},
     "output_type": "execute_result"
    },
    {
     "data": {
      "image/png": "[encoded data removed]",
      "text/plain": [
       "<matplotlib.figure.Figure at 0xcaac470>"
      ]
     },
     "metadata": {},
     "output_type": "display_data"
    }
   ],
   "source": [
    "sns.barplot(x='Sex', y='Fare', hue='Pclass', data=df_no_missing_age)\n",
    "plt.title('Mean Fare by class and gender')"
   ]
  },
  {
   "cell_type": "code",
   "execution_count": 214,
   "metadata": {
    "collapsed": false
   },
   "outputs": [
    {
     "name": "stdout",
     "output_type": "stream",
     "text": [
      "    Age  SibSp  PassengerId  Survived  Pclass  Parch     Fare\n",
      "0  0.42      0        804.0       1.0     3.0    1.0   8.5167\n",
      "1  0.67      1        756.0       1.0     2.0    1.0  14.5000\n",
      "2  0.75      2        557.5       1.0     3.0    1.0  19.2583\n",
      "3  0.83      0         79.0       1.0     2.0    2.0  29.0000\n",
      "4  0.83      1        832.0       1.0     2.0    1.0  18.7500\n",
      "\n"
     ]
    },
    {
     "data": {
      "text/plain": [
       "<matplotlib.text.Text at 0x1a3f5cc0>"
      ]
     },
     "execution_count": 214,
     "metadata": {},
     "output_type": "execute_result"
    },
    {
     "data": {
      "image/png": "[encoded data removed]",
      "text/plain": [
       "<matplotlib.figure.Figure at 0x1a2108d0>"
      ]
     },
     "metadata": {},
     "output_type": "display_data"
    }
   ],
   "source": [
    "df_age_sex = df_no_missing_age.groupby(['Age','SibSp'],as_index = False).mean()\n",
    "print df_age_sex.head()\n",
    "print \n",
    "\n",
    "colors = np.random.rand(df_age_sex.shape[0])\n",
    "area = df_age_sex['SibSp'] * 10\n",
    "\n",
    "plt.scatter(df_age_sex['Age'], df_age_sex['Fare'], s = area, c = colors)\n",
    "plt.title('Fare vs Age by Siblings')\n",
    "plt.ylabel('Fare')\n",
    "plt.xlabel('Age')"
   ]
  },
  {
   "cell_type": "code",
   "execution_count": 88,
   "metadata": {
    "collapsed": false
   },
   "outputs": [
    {
     "name": "stdout",
     "output_type": "stream",
     "text": [
      "    Age  SibSp  PassengerId  Survived  Pclass  Parch     Fare\n",
      "0  0.42      0        804.0       1.0     3.0    1.0   8.5167\n",
      "1  0.67      1        756.0       1.0     2.0    1.0  14.5000\n",
      "2  0.75      2        557.5       1.0     3.0    1.0  19.2583\n",
      "3  0.83      0         79.0       1.0     2.0    2.0  29.0000\n",
      "4  0.83      1        832.0       1.0     2.0    1.0  18.7500\n",
      "\n"
     ]
    },
    {
     "data": {
      "text/plain": [
       "<matplotlib.text.Text at 0xd7ae7b8>"
      ]
     },
     "execution_count": 88,
     "metadata": {},
     "output_type": "execute_result"
    },
    {
     "data": {
      "image/png": "[encoded data removed]",
      "text/plain": [
       "<matplotlib.figure.Figure at 0xc4a6438>"
      ]
     },
     "metadata": {},
     "output_type": "display_data"
    }
   ],
   "source": [
    "df_age_sex = df_no_missing_age.groupby(['Age','SibSp'],as_index = False).mean()\n",
    "print df_age_sex.head()\n",
    "print \n",
    "\n",
    "colors = np.random.rand(df_age_sex.shape[0])\n",
    "area = df_age_sex['SibSp'] \n",
    "\n",
    "plt.scatter(df_age_sex['Age'], df_age_sex['Survived'], s = area, c = colors)\n",
    "plt.title('Survived vs Age by Siblings')\n",
    "plt.ylabel('Mean Survived')\n",
    "plt.xlabel('Age')"
   ]
  },
  {
   "cell_type": "code",
   "execution_count": 87,
   "metadata": {
    "collapsed": false
   },
   "outputs": [
    {
     "name": "stdout",
     "output_type": "stream",
     "text": [
      "    Age  SibSp  PassengerId  Survived  Pclass  Parch     Fare\n",
      "0  0.42      0        804.0       1.0     3.0    1.0   8.5167\n",
      "1  0.67      1        756.0       1.0     2.0    1.0  14.5000\n",
      "2  0.75      2        557.5       1.0     3.0    1.0  19.2583\n",
      "3  0.83      0         79.0       1.0     2.0    2.0  29.0000\n",
      "4  0.83      1        832.0       1.0     2.0    1.0  18.7500\n",
      "\n"
     ]
    },
    {
     "data": {
      "text/plain": [
       "<matplotlib.text.Text at 0xc803e48>"
      ]
     },
     "execution_count": 87,
     "metadata": {},
     "output_type": "execute_result"
    },
    {
     "data": {
      "image/png": "[encoded data removed]",
      "text/plain": [
       "<matplotlib.figure.Figure at 0xc52f908>"
      ]
     },
     "metadata": {},
     "output_type": "display_data"
    }
   ],
   "source": [
    "df_age_sex = df_no_missing_age.groupby(['Age','SibSp'],as_index = False).mean()\n",
    "print df_age_sex.head()\n",
    "print \n",
    "\n",
    "colors = np.random.rand(df_age_sex.shape[0])\n",
    "area = df_age_sex['SibSp'] * (df_age_sex['Fare']/2)\n",
    "\n",
    "plt.scatter(df_age_sex['Age'], df_age_sex['Survived'], s = area, c = colors)\n",
    "plt.title('Survived vs Age by Siblings*avg Fare')\n",
    "plt.ylabel('Mean Survived')\n",
    "plt.xlabel('Age')"
   ]
  },
  {
   "cell_type": "markdown",
   "metadata": {},
   "source": [
    "## Notes:\n",
    "1. Age by Survival chart shows that more of the survivors were children or old passengers. All other age groups consist of more non-survivors - specially the age group 20-30. More of the survivors were women than men. The Fare distribution charts also reveal that anyone above 300 fare survived. Passengers who paid higher fares included more survivors than those who paid lower fares.\n",
    "\n",
    "2. There are no strong correlation between any of the attributes. (Fare and Class has a -.54 correlation which is evident)\n",
    "\n",
    "3. Plotting Age and class against mean survived - validates again that far more women survived than men and the number of first class survivors were almost four times of other classes for both men and women. Mean fare vs Age and Class reveals that more women paid higher fares, were in first class and more survived.\n",
    "\n",
    "4. Next I explore if Siblings plays any part in survival of the passengers. The 'Fare vs Age by Siblings' chart plots the Fare vs Age and the size of the point is the siblings in that age group. We can see a bunch of children with siblings with low fares - possibly tickets were low priced for all children. The second chart 'Survived vs Age by Siblings' shows the mean survivors vs age group and the size of dot is the number of siblings - there isn't any specific difference based on number of siblings amongs survivors and non-survivors. However, plotting 'Survived vs Age by Siblings * avg Fare' that even children (and adults) who paid higher wages had more probability of survival with siblings.\n",
    "\n",
    "From the exploration we know that children, women and first class passengers were highest amongst the survivors.\n"
   ]
  },
  {
   "cell_type": "markdown",
   "metadata": {},
   "source": [
    "## Predict if a passenger is a survivor given the traits"
   ]
  },
  {
   "cell_type": "code",
   "execution_count": 91,
   "metadata": {
    "collapsed": false
   },
   "outputs": [
    {
     "name": "stdout",
     "output_type": "stream",
     "text": [
      "['PassengerId' 'Survived' 'Pclass' 'Name' 'Sex' 'Age' 'SibSp' 'Parch'\n",
      " 'Ticket' 'Fare' 'Cabin' 'Embarked' 'Embarked_C' 'Embarked_Q' 'Embarked_S'\n",
      " 'Sex_female' 'Sex_male']\n",
      "\n",
      "['PassengerId' 'Survived' 'Pclass' 'Age' 'SibSp' 'Parch' 'Fare'\n",
      " 'Embarked_C' 'Embarked_Q' 'Embarked_S' 'Sex_female' 'Sex_male']\n",
      "\n",
      "0    0\n",
      "1    1\n",
      "2    1\n",
      "3    1\n",
      "4    0\n",
      "Name: Survived, dtype: int64\n",
      "['PassengerId' 'Pclass' 'Age' 'SibSp' 'Parch' 'Fare' 'Embarked_C'\n",
      " 'Embarked_Q' 'Embarked_S' 'Sex_female' 'Sex_male']\n"
     ]
    }
   ],
   "source": [
    "# Fitting a decision tree and predict the accuracy of the model\n",
    "\n",
    "\n",
    "# Convert categorical data to numerical data by creating dummy variables\n",
    "\n",
    "df_no_missing_age_dummies = pd.concat([df_no_missing_age, \n",
    "                               pd.get_dummies(df_no_missing_age['Embarked']).rename(columns=lambda x: 'Embarked_' + str(x)), \n",
    "                               pd.get_dummies(df_no_missing_age['Sex']).rename(columns=lambda x: 'Sex_' + str(x))],\n",
    "                                axis=1)\n",
    "print df_no_missing_age_dummies.columns.values\n",
    "\n",
    "df_no_missing_age_dummies = df_no_missing_age_dummies.drop(['Name','Cabin', 'Ticket','Sex','Embarked'], axis=1)\n",
    "print\n",
    "print df_no_missing_age_dummies.columns.values\n",
    "print\n",
    "\n",
    "df_no_missing_age_dummies_Y = df_no_missing_age_dummies['Survived']\n",
    "df_no_missing_age_dummies_X = df_no_missing_age_dummies.drop('Survived',1)\n",
    "\n",
    "print df_no_missing_age_dummies_Y.head()\n",
    "print df_no_missing_age_dummies_X.columns.values\n"
   ]
  },
  {
   "cell_type": "code",
   "execution_count": 93,
   "metadata": {
    "collapsed": false
   },
   "outputs": [
    {
     "name": "stdout",
     "output_type": "stream",
     "text": [
      "Accuracy of a Decision Tree : 0.716101694915\n"
     ]
    }
   ],
   "source": [
    "from sklearn.cross_validation import cross_val_score\n",
    "from sklearn.tree import DecisionTreeClassifier\n",
    "from sklearn.cross_validation import train_test_split\n",
    "\n",
    "# Train and test split\n",
    "X_train, X_test, y_train, y_test = train_test_split(df_no_missing_age_dummies_X, df_no_missing_age_dummies_Y, test_size=0.33, random_state=42)\n",
    "\n",
    "clfr = tree.DecisionTreeClassifier()\n",
    "tree.fit = clfr.fit(X_train, y_train)\n",
    "\n",
    "clfr.predict(df_data_test)\n",
    "tree_accuracy = clfr.score(X_test, y_test, sample_weight=None)\n",
    "print \"Accuracy of a Decision Tree : \" + str(tree_accuracy)\n"
   ]
  },
  {
   "cell_type": "code",
   "execution_count": 63,
   "metadata": {
    "collapsed": false
   },
   "outputs": [
    {
     "name": "stdout",
     "output_type": "stream",
     "text": [
      "Accuracy of a Random Forest : 0.800847457627\n"
     ]
    }
   ],
   "source": [
    "from sklearn.ensemble import RandomForestClassifier\n",
    "rf = RandomForestClassifier(n_estimators=100)\n",
    "rf.fit(X_train, y_train)\n",
    "rf.predict(df_data_test)\n",
    "forest_accuracy = rf.score(X_test, y_test, sample_weight=None)\n",
    "print \"Accuracy of a Random Forest : \" + str(forest_accuracy)\n"
   ]
  },
  {
   "cell_type": "markdown",
   "metadata": {},
   "source": [
    "#### Notes:\n",
    "Fitting a decision tree gives 71.6 % accuracy of predicting the survivality of a passenger. Random Forests increase the accuracy to 80%."
   ]
  },
  {
   "cell_type": "markdown",
   "metadata": {},
   "source": [
    "## References \n",
    "1. http://matplotlib.org/api/pyplot_api.html\n",
    "2. http://stackoverflow.com/questions/6871201/plot-two-histograms-at-the-same-time-with-matplotlib \n",
    "3. https://stanford.edu/~mwaskom/software/seaborn/tutorial/categorical.html\n",
    "4. http://scikit-learn.org/stable/modules/generated/sklearn.preprocessing.LabelEncoder.html#sklearn.preprocessing.LabelEncoder\n",
    "5. https://www.kaggle.com/c/titanic/forums/t/10433/best-way-to-include-categorial-data-in-the-training-set/55559\n",
    "6. http://scikit-learn.org/stable/modules/generated/sklearn.tree.DecisionTreeClassifier.html"
   ]
  }
 ],
 "metadata": {
  "kernelspec": {
   "display_name": "Python 2",
   "language": "python",
   "name": "python2"
  },
  "language_info": {
   "codemirror_mode": {
    "name": "ipython",
    "version": 2
   },
   "file_extension": ".py",
   "mimetype": "text/x-python",
   "name": "python",
   "nbconvert_exporter": "python",
   "pygments_lexer": "ipython2",
   "version": "2.7.12"
  }
 },
 "nbformat": 4,
 "nbformat_minor": 0
}
